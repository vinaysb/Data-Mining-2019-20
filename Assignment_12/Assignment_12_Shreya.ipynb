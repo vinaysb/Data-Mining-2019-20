{
 "cells": [
  {
   "cell_type": "markdown",
   "metadata": {},
   "source": [
    "<H1> Assignment 12</H1> \n",
    "<H3> Author: Shreya Kapoor </H3> "
   ]
  },
  {
   "cell_type": "markdown",
   "metadata": {},
   "source": [
    "<img src = 'vae.png'> "
   ]
  },
  {
   "cell_type": "code",
   "execution_count": 1,
   "metadata": {},
   "outputs": [],
   "source": [
    "from __future__ import absolute_import, division, print_function, unicode_literals"
   ]
  },
  {
   "cell_type": "code",
   "execution_count": 2,
   "metadata": {},
   "outputs": [],
   "source": [
    "import pandas as pd\n",
    "import pandas_profiling\n",
    "import matplotlib.pyplot as plt\n",
    "from sklearn.model_selection import train_test_split\n",
    "import hyperopt as hp"
   ]
  },
  {
   "cell_type": "code",
   "execution_count": 3,
   "metadata": {},
   "outputs": [],
   "source": [
    "import argparse\n",
    "from sklearn.metrics import accuracy_score\n",
    "from tensorflow.keras.regularizers import l2"
   ]
  },
  {
   "cell_type": "code",
   "execution_count": 4,
   "metadata": {},
   "outputs": [],
   "source": [
    "import numpy as np\n",
    "import glob\n",
    "import os \n",
    "import tensorflow as tf\n",
    "tf.keras.backend.clear_session()"
   ]
  },
  {
   "cell_type": "code",
   "execution_count": 5,
   "metadata": {},
   "outputs": [],
   "source": [
    "from tensorflow.keras.layers import Input, Dense, BatchNormalization\n",
    "from tensorflow.keras.models import Model\n",
    "import seaborn as sns\n",
    "from tensorflow.keras import backend as K"
   ]
  },
  {
   "cell_type": "code",
   "execution_count": 6,
   "metadata": {},
   "outputs": [],
   "source": [
    "from tensorflow.keras.callbacks import TensorBoard"
   ]
  },
  {
   "cell_type": "code",
   "execution_count": 7,
   "metadata": {},
   "outputs": [],
   "source": [
    "from hyperopt import fmin, tpe, hp, STATUS_OK, Trials\n",
    "from tensorflow.keras.models import Sequential\n",
    "from tensorflow.keras.layers import Lambda,Activation, Dense, Dropout\n",
    "from tensorflow.keras import optimizers, regularizers\n",
    "from tensorflow.keras.optimizers import Adam\n",
    "import numpy as np\n",
    "import time\n",
    "import sys\n",
    "from sklearn.metrics import accuracy_score\n",
    "from tensorflow.keras.regularizers import l2"
   ]
  },
  {
   "cell_type": "code",
   "execution_count": 8,
   "metadata": {},
   "outputs": [],
   "source": [
    "path = \"../Assignment_7\""
   ]
  },
  {
   "cell_type": "code",
   "execution_count": 9,
   "metadata": {},
   "outputs": [
    {
     "name": "stdout",
     "output_type": "stream",
     "text": [
      "../Assignment_7/leukemia_small.csv\n"
     ]
    }
   ],
   "source": [
    "for file in glob.glob(os.path.join(path, '*.csv')): \n",
    "    print (file)\n",
    "    if 'leukemia_small.csv' in file : \n",
    "        df = pd.read_csv(file)"
   ]
  },
  {
   "cell_type": "code",
   "execution_count": 10,
   "metadata": {},
   "outputs": [
    {
     "data": {
      "text/html": [
       "<div>\n",
       "<style scoped>\n",
       "    .dataframe tbody tr th:only-of-type {\n",
       "        vertical-align: middle;\n",
       "    }\n",
       "\n",
       "    .dataframe tbody tr th {\n",
       "        vertical-align: top;\n",
       "    }\n",
       "\n",
       "    .dataframe thead th {\n",
       "        text-align: right;\n",
       "    }\n",
       "</style>\n",
       "<table border=\"1\" class=\"dataframe\">\n",
       "  <thead>\n",
       "    <tr style=\"text-align: right;\">\n",
       "      <th></th>\n",
       "      <th>ALL</th>\n",
       "      <th>ALL.1</th>\n",
       "      <th>ALL.2</th>\n",
       "      <th>ALL.3</th>\n",
       "      <th>ALL.4</th>\n",
       "      <th>ALL.5</th>\n",
       "      <th>ALL.6</th>\n",
       "      <th>ALL.7</th>\n",
       "      <th>ALL.8</th>\n",
       "      <th>ALL.9</th>\n",
       "      <th>...</th>\n",
       "      <th>AML.21</th>\n",
       "      <th>AML.22</th>\n",
       "      <th>AML.23</th>\n",
       "      <th>AML.24</th>\n",
       "      <th>ALL.41</th>\n",
       "      <th>ALL.42</th>\n",
       "      <th>ALL.43</th>\n",
       "      <th>ALL.44</th>\n",
       "      <th>ALL.45</th>\n",
       "      <th>ALL.46</th>\n",
       "    </tr>\n",
       "  </thead>\n",
       "  <tbody>\n",
       "    <tr>\n",
       "      <th>0</th>\n",
       "      <td>0.561549</td>\n",
       "      <td>-0.623141</td>\n",
       "      <td>-0.814524</td>\n",
       "      <td>0.229492</td>\n",
       "      <td>-0.706016</td>\n",
       "      <td>-0.314779</td>\n",
       "      <td>-0.089514</td>\n",
       "      <td>-0.623685</td>\n",
       "      <td>-0.816460</td>\n",
       "      <td>2.043910</td>\n",
       "      <td>...</td>\n",
       "      <td>-0.807725</td>\n",
       "      <td>-0.940462</td>\n",
       "      <td>-0.207155</td>\n",
       "      <td>0.062535</td>\n",
       "      <td>-0.294149</td>\n",
       "      <td>-0.047172</td>\n",
       "      <td>-0.812292</td>\n",
       "      <td>0.013516</td>\n",
       "      <td>-0.353390</td>\n",
       "      <td>-0.525819</td>\n",
       "    </tr>\n",
       "    <tr>\n",
       "      <th>1</th>\n",
       "      <td>0.213566</td>\n",
       "      <td>-0.912107</td>\n",
       "      <td>-1.084069</td>\n",
       "      <td>-0.965719</td>\n",
       "      <td>0.660884</td>\n",
       "      <td>0.541182</td>\n",
       "      <td>-0.916502</td>\n",
       "      <td>-0.912595</td>\n",
       "      <td>1.564484</td>\n",
       "      <td>0.449957</td>\n",
       "      <td>...</td>\n",
       "      <td>-1.077961</td>\n",
       "      <td>-0.429690</td>\n",
       "      <td>-0.538333</td>\n",
       "      <td>-0.296009</td>\n",
       "      <td>0.684703</td>\n",
       "      <td>2.642169</td>\n",
       "      <td>-1.082064</td>\n",
       "      <td>1.817207</td>\n",
       "      <td>0.063489</td>\n",
       "      <td>1.362307</td>\n",
       "    </tr>\n",
       "    <tr>\n",
       "      <th>2</th>\n",
       "      <td>-0.636584</td>\n",
       "      <td>-0.465296</td>\n",
       "      <td>-0.583127</td>\n",
       "      <td>-0.525060</td>\n",
       "      <td>-0.548306</td>\n",
       "      <td>-0.156431</td>\n",
       "      <td>-0.470195</td>\n",
       "      <td>-0.465841</td>\n",
       "      <td>-0.658930</td>\n",
       "      <td>-0.141057</td>\n",
       "      <td>...</td>\n",
       "      <td>-0.650181</td>\n",
       "      <td>-0.783134</td>\n",
       "      <td>-0.048632</td>\n",
       "      <td>0.221498</td>\n",
       "      <td>-0.135767</td>\n",
       "      <td>-0.524362</td>\n",
       "      <td>2.774872</td>\n",
       "      <td>0.172399</td>\n",
       "      <td>-0.195105</td>\n",
       "      <td>-0.367815</td>\n",
       "    </tr>\n",
       "    <tr>\n",
       "      <th>3</th>\n",
       "      <td>0.347124</td>\n",
       "      <td>-0.734345</td>\n",
       "      <td>1.785912</td>\n",
       "      <td>-0.188016</td>\n",
       "      <td>-0.702840</td>\n",
       "      <td>0.446234</td>\n",
       "      <td>-1.026895</td>\n",
       "      <td>0.860892</td>\n",
       "      <td>-0.275779</td>\n",
       "      <td>0.194809</td>\n",
       "      <td>...</td>\n",
       "      <td>-0.056816</td>\n",
       "      <td>-1.346795</td>\n",
       "      <td>-0.595956</td>\n",
       "      <td>-0.319818</td>\n",
       "      <td>1.010086</td>\n",
       "      <td>0.081749</td>\n",
       "      <td>2.208582</td>\n",
       "      <td>0.429806</td>\n",
       "      <td>-0.101432</td>\n",
       "      <td>-0.922238</td>\n",
       "    </tr>\n",
       "    <tr>\n",
       "      <th>4</th>\n",
       "      <td>0.545509</td>\n",
       "      <td>-0.539898</td>\n",
       "      <td>1.445064</td>\n",
       "      <td>-0.534603</td>\n",
       "      <td>-0.285707</td>\n",
       "      <td>-0.204271</td>\n",
       "      <td>-0.634511</td>\n",
       "      <td>0.077930</td>\n",
       "      <td>0.127314</td>\n",
       "      <td>0.507366</td>\n",
       "      <td>...</td>\n",
       "      <td>-0.015337</td>\n",
       "      <td>-0.664693</td>\n",
       "      <td>-0.936764</td>\n",
       "      <td>-0.345593</td>\n",
       "      <td>1.384282</td>\n",
       "      <td>0.169043</td>\n",
       "      <td>1.540095</td>\n",
       "      <td>-0.508952</td>\n",
       "      <td>0.414814</td>\n",
       "      <td>-0.900327</td>\n",
       "    </tr>\n",
       "  </tbody>\n",
       "</table>\n",
       "<p>5 rows × 72 columns</p>\n",
       "</div>"
      ],
      "text/plain": [
       "        ALL     ALL.1     ALL.2     ALL.3     ALL.4     ALL.5     ALL.6  \\\n",
       "0  0.561549 -0.623141 -0.814524  0.229492 -0.706016 -0.314779 -0.089514   \n",
       "1  0.213566 -0.912107 -1.084069 -0.965719  0.660884  0.541182 -0.916502   \n",
       "2 -0.636584 -0.465296 -0.583127 -0.525060 -0.548306 -0.156431 -0.470195   \n",
       "3  0.347124 -0.734345  1.785912 -0.188016 -0.702840  0.446234 -1.026895   \n",
       "4  0.545509 -0.539898  1.445064 -0.534603 -0.285707 -0.204271 -0.634511   \n",
       "\n",
       "      ALL.7     ALL.8     ALL.9  ...    AML.21    AML.22    AML.23    AML.24  \\\n",
       "0 -0.623685 -0.816460  2.043910  ... -0.807725 -0.940462 -0.207155  0.062535   \n",
       "1 -0.912595  1.564484  0.449957  ... -1.077961 -0.429690 -0.538333 -0.296009   \n",
       "2 -0.465841 -0.658930 -0.141057  ... -0.650181 -0.783134 -0.048632  0.221498   \n",
       "3  0.860892 -0.275779  0.194809  ... -0.056816 -1.346795 -0.595956 -0.319818   \n",
       "4  0.077930  0.127314  0.507366  ... -0.015337 -0.664693 -0.936764 -0.345593   \n",
       "\n",
       "     ALL.41    ALL.42    ALL.43    ALL.44    ALL.45    ALL.46  \n",
       "0 -0.294149 -0.047172 -0.812292  0.013516 -0.353390 -0.525819  \n",
       "1  0.684703  2.642169 -1.082064  1.817207  0.063489  1.362307  \n",
       "2 -0.135767 -0.524362  2.774872  0.172399 -0.195105 -0.367815  \n",
       "3  1.010086  0.081749  2.208582  0.429806 -0.101432 -0.922238  \n",
       "4  1.384282  0.169043  1.540095 -0.508952  0.414814 -0.900327  \n",
       "\n",
       "[5 rows x 72 columns]"
      ]
     },
     "execution_count": 10,
     "metadata": {},
     "output_type": "execute_result"
    }
   ],
   "source": [
    "df.head()"
   ]
  },
  {
   "cell_type": "code",
   "execution_count": 11,
   "metadata": {},
   "outputs": [],
   "source": [
    "#rows are genes \n",
    "#columns are denoting the class labels"
   ]
  },
  {
   "cell_type": "code",
   "execution_count": 12,
   "metadata": {},
   "outputs": [
    {
     "data": {
      "text/plain": [
       "<matplotlib.axes._subplots.AxesSubplot at 0x131317750>"
      ]
     },
     "execution_count": 12,
     "metadata": {},
     "output_type": "execute_result"
    },
    {
     "data": {
      "image/png": "[encoded data removed]",
      "text/plain": [
       "<Figure size 432x288 with 2 Axes>"
      ]
     },
     "metadata": {
      "needs_background": "light"
     },
     "output_type": "display_data"
    }
   ],
   "source": [
    "sns.heatmap(df.transpose() , cmap = ['green', 'red'])\n",
    "#heatmap is N genes x M samples"
   ]
  },
  {
   "cell_type": "code",
   "execution_count": 13,
   "metadata": {},
   "outputs": [],
   "source": [
    "df = df.transpose() "
   ]
  },
  {
   "cell_type": "code",
   "execution_count": 14,
   "metadata": {},
   "outputs": [],
   "source": [
    "def normalize(df):\n",
    "    result = df.copy()\n",
    "    for feature_name in df.columns:\n",
    "        max_value = df[feature_name].max()\n",
    "        min_value = df[feature_name].min()\n",
    "        result[feature_name] = (df[feature_name] - min_value) / (max_value - min_value)\n",
    "    return result"
   ]
  },
  {
   "cell_type": "code",
   "execution_count": 15,
   "metadata": {},
   "outputs": [],
   "source": [
    "df = normalize(df)"
   ]
  },
  {
   "cell_type": "code",
   "execution_count": 16,
   "metadata": {},
   "outputs": [
    {
     "data": {
      "text/plain": [
       "3571"
      ]
     },
     "execution_count": 16,
     "metadata": {},
     "output_type": "execute_result"
    }
   ],
   "source": [
    "len(df.columns)"
   ]
  },
  {
   "cell_type": "code",
   "execution_count": 17,
   "metadata": {},
   "outputs": [
    {
     "data": {
      "text/plain": [
       "0       0.379608\n",
       "1       0.355022\n",
       "2       0.045438\n",
       "3       0.308768\n",
       "4       0.519043\n",
       "          ...   \n",
       "3566    0.549605\n",
       "3567    0.365494\n",
       "3568    0.683416\n",
       "3569    0.518961\n",
       "3570    0.166539\n",
       "Name: ALL, Length: 3571, dtype: float64"
      ]
     },
     "execution_count": 17,
     "metadata": {},
     "output_type": "execute_result"
    }
   ],
   "source": [
    "df.loc['ALL']"
   ]
  },
  {
   "cell_type": "code",
   "execution_count": 18,
   "metadata": {},
   "outputs": [
    {
     "data": {
      "text/plain": [
       "Index(['ALL', 'ALL.1', 'ALL.2', 'ALL.3', 'ALL.4', 'ALL.5', 'ALL.6', 'ALL.7',\n",
       "       'ALL.8', 'ALL.9', 'ALL.10', 'ALL.11', 'ALL.12', 'ALL.13', 'ALL.14',\n",
       "       'ALL.15', 'ALL.16', 'ALL.17', 'ALL.18', 'ALL.19', 'ALL.20', 'ALL.21',\n",
       "       'ALL.22', 'ALL.23', 'ALL.24', 'ALL.25', 'ALL.26', 'AML', 'AML.1',\n",
       "       'AML.2', 'AML.3', 'AML.4', 'AML.5', 'AML.6', 'AML.7', 'AML.8', 'AML.9',\n",
       "       'AML.10', 'ALL.27', 'ALL.28', 'ALL.29', 'ALL.30', 'ALL.31', 'ALL.32',\n",
       "       'ALL.33', 'ALL.34', 'ALL.35', 'ALL.36', 'ALL.37', 'AML.11', 'AML.12',\n",
       "       'AML.13', 'AML.14', 'AML.15', 'ALL.38', 'ALL.39', 'AML.16', 'AML.17',\n",
       "       'ALL.40', 'AML.18', 'AML.19', 'AML.20', 'AML.21', 'AML.22', 'AML.23',\n",
       "       'AML.24', 'ALL.41', 'ALL.42', 'ALL.43', 'ALL.44', 'ALL.45', 'ALL.46'],\n",
       "      dtype='object')"
      ]
     },
     "execution_count": 18,
     "metadata": {},
     "output_type": "execute_result"
    }
   ],
   "source": [
    "df.index"
   ]
  },
  {
   "cell_type": "code",
   "execution_count": 19,
   "metadata": {},
   "outputs": [],
   "source": [
    "df['cell'] = [1 if 'ALL' in index else 0 for index in df.index]"
   ]
  },
  {
   "cell_type": "code",
   "execution_count": 20,
   "metadata": {},
   "outputs": [],
   "source": [
    "X_train, X_test, y_train, y_test = train_test_split(df.drop(columns=['cell']), df['cell'], test_size = 0.5)"
   ]
  },
  {
   "cell_type": "code",
   "execution_count": 21,
   "metadata": {},
   "outputs": [
    {
     "data": {
      "text/html": [
       "<div>\n",
       "<style scoped>\n",
       "    .dataframe tbody tr th:only-of-type {\n",
       "        vertical-align: middle;\n",
       "    }\n",
       "\n",
       "    .dataframe tbody tr th {\n",
       "        vertical-align: top;\n",
       "    }\n",
       "\n",
       "    .dataframe thead th {\n",
       "        text-align: right;\n",
       "    }\n",
       "</style>\n",
       "<table border=\"1\" class=\"dataframe\">\n",
       "  <thead>\n",
       "    <tr style=\"text-align: right;\">\n",
       "      <th></th>\n",
       "      <th>0</th>\n",
       "      <th>1</th>\n",
       "      <th>2</th>\n",
       "      <th>3</th>\n",
       "      <th>4</th>\n",
       "      <th>5</th>\n",
       "      <th>6</th>\n",
       "      <th>7</th>\n",
       "      <th>8</th>\n",
       "      <th>9</th>\n",
       "      <th>...</th>\n",
       "      <th>3561</th>\n",
       "      <th>3562</th>\n",
       "      <th>3563</th>\n",
       "      <th>3564</th>\n",
       "      <th>3565</th>\n",
       "      <th>3566</th>\n",
       "      <th>3567</th>\n",
       "      <th>3568</th>\n",
       "      <th>3569</th>\n",
       "      <th>3570</th>\n",
       "    </tr>\n",
       "  </thead>\n",
       "  <tbody>\n",
       "    <tr>\n",
       "      <th>ALL.41</th>\n",
       "      <td>0.171911</td>\n",
       "      <td>0.480145</td>\n",
       "      <td>0.132594</td>\n",
       "      <td>0.429613</td>\n",
       "      <td>0.679151</td>\n",
       "      <td>0.077902</td>\n",
       "      <td>0.067655</td>\n",
       "      <td>0.072114</td>\n",
       "      <td>0.810043</td>\n",
       "      <td>0.860071</td>\n",
       "      <td>...</td>\n",
       "      <td>0.319141</td>\n",
       "      <td>0.540040</td>\n",
       "      <td>0.492849</td>\n",
       "      <td>0.165778</td>\n",
       "      <td>0.721853</td>\n",
       "      <td>0.641167</td>\n",
       "      <td>0.298006</td>\n",
       "      <td>0.565311</td>\n",
       "      <td>0.080468</td>\n",
       "      <td>0.057799</td>\n",
       "    </tr>\n",
       "    <tr>\n",
       "      <th>AML.4</th>\n",
       "      <td>0.055758</td>\n",
       "      <td>0.279189</td>\n",
       "      <td>0.049179</td>\n",
       "      <td>0.105438</td>\n",
       "      <td>0.363259</td>\n",
       "      <td>0.699271</td>\n",
       "      <td>0.524703</td>\n",
       "      <td>0.502130</td>\n",
       "      <td>0.796716</td>\n",
       "      <td>0.768986</td>\n",
       "      <td>...</td>\n",
       "      <td>0.439880</td>\n",
       "      <td>0.649356</td>\n",
       "      <td>0.649781</td>\n",
       "      <td>0.265335</td>\n",
       "      <td>0.372481</td>\n",
       "      <td>0.770557</td>\n",
       "      <td>0.389739</td>\n",
       "      <td>0.804360</td>\n",
       "      <td>0.442440</td>\n",
       "      <td>0.284625</td>\n",
       "    </tr>\n",
       "    <tr>\n",
       "      <th>ALL.19</th>\n",
       "      <td>0.486691</td>\n",
       "      <td>0.595158</td>\n",
       "      <td>0.000000</td>\n",
       "      <td>0.465977</td>\n",
       "      <td>0.784149</td>\n",
       "      <td>0.000000</td>\n",
       "      <td>0.000000</td>\n",
       "      <td>0.000000</td>\n",
       "      <td>0.638215</td>\n",
       "      <td>0.644600</td>\n",
       "      <td>...</td>\n",
       "      <td>0.493681</td>\n",
       "      <td>0.393890</td>\n",
       "      <td>0.491594</td>\n",
       "      <td>0.470513</td>\n",
       "      <td>0.578829</td>\n",
       "      <td>0.663689</td>\n",
       "      <td>0.110082</td>\n",
       "      <td>0.737935</td>\n",
       "      <td>0.286913</td>\n",
       "      <td>0.365360</td>\n",
       "    </tr>\n",
       "    <tr>\n",
       "      <th>ALL.44</th>\n",
       "      <td>0.246588</td>\n",
       "      <td>0.780910</td>\n",
       "      <td>0.186223</td>\n",
       "      <td>0.323840</td>\n",
       "      <td>0.317763</td>\n",
       "      <td>0.907965</td>\n",
       "      <td>0.783196</td>\n",
       "      <td>0.927918</td>\n",
       "      <td>0.896018</td>\n",
       "      <td>0.918422</td>\n",
       "      <td>...</td>\n",
       "      <td>0.528204</td>\n",
       "      <td>0.232596</td>\n",
       "      <td>0.144385</td>\n",
       "      <td>0.367334</td>\n",
       "      <td>0.648269</td>\n",
       "      <td>0.545992</td>\n",
       "      <td>0.357324</td>\n",
       "      <td>0.524020</td>\n",
       "      <td>0.425090</td>\n",
       "      <td>0.264729</td>\n",
       "    </tr>\n",
       "    <tr>\n",
       "      <th>ALL.3</th>\n",
       "      <td>0.299010</td>\n",
       "      <td>0.041833</td>\n",
       "      <td>0.064846</td>\n",
       "      <td>0.211223</td>\n",
       "      <td>0.312866</td>\n",
       "      <td>0.721620</td>\n",
       "      <td>0.588737</td>\n",
       "      <td>0.649029</td>\n",
       "      <td>0.838058</td>\n",
       "      <td>0.800412</td>\n",
       "      <td>...</td>\n",
       "      <td>0.586119</td>\n",
       "      <td>0.166657</td>\n",
       "      <td>0.633390</td>\n",
       "      <td>0.504654</td>\n",
       "      <td>0.430792</td>\n",
       "      <td>0.776139</td>\n",
       "      <td>0.139927</td>\n",
       "      <td>0.627271</td>\n",
       "      <td>0.239517</td>\n",
       "      <td>0.067942</td>\n",
       "    </tr>\n",
       "  </tbody>\n",
       "</table>\n",
       "<p>5 rows × 3571 columns</p>\n",
       "</div>"
      ],
      "text/plain": [
       "            0         1         2         3         4         5         6     \\\n",
       "ALL.41  0.171911  0.480145  0.132594  0.429613  0.679151  0.077902  0.067655   \n",
       "AML.4   0.055758  0.279189  0.049179  0.105438  0.363259  0.699271  0.524703   \n",
       "ALL.19  0.486691  0.595158  0.000000  0.465977  0.784149  0.000000  0.000000   \n",
       "ALL.44  0.246588  0.780910  0.186223  0.323840  0.317763  0.907965  0.783196   \n",
       "ALL.3   0.299010  0.041833  0.064846  0.211223  0.312866  0.721620  0.588737   \n",
       "\n",
       "            7         8         9     ...      3561      3562      3563  \\\n",
       "ALL.41  0.072114  0.810043  0.860071  ...  0.319141  0.540040  0.492849   \n",
       "AML.4   0.502130  0.796716  0.768986  ...  0.439880  0.649356  0.649781   \n",
       "ALL.19  0.000000  0.638215  0.644600  ...  0.493681  0.393890  0.491594   \n",
       "ALL.44  0.927918  0.896018  0.918422  ...  0.528204  0.232596  0.144385   \n",
       "ALL.3   0.649029  0.838058  0.800412  ...  0.586119  0.166657  0.633390   \n",
       "\n",
       "            3564      3565      3566      3567      3568      3569      3570  \n",
       "ALL.41  0.165778  0.721853  0.641167  0.298006  0.565311  0.080468  0.057799  \n",
       "AML.4   0.265335  0.372481  0.770557  0.389739  0.804360  0.442440  0.284625  \n",
       "ALL.19  0.470513  0.578829  0.663689  0.110082  0.737935  0.286913  0.365360  \n",
       "ALL.44  0.367334  0.648269  0.545992  0.357324  0.524020  0.425090  0.264729  \n",
       "ALL.3   0.504654  0.430792  0.776139  0.139927  0.627271  0.239517  0.067942  \n",
       "\n",
       "[5 rows x 3571 columns]"
      ]
     },
     "execution_count": 21,
     "metadata": {},
     "output_type": "execute_result"
    }
   ],
   "source": [
    "X_train.head()"
   ]
  },
  {
   "cell_type": "markdown",
   "metadata": {},
   "source": [
    "## According to the task described by the exercise!"
   ]
  },
  {
   "cell_type": "code",
   "execution_count": 22,
   "metadata": {},
   "outputs": [],
   "source": [
    "# for batch normalisation we set the use_bias flag to false!"
   ]
  },
  {
   "cell_type": "code",
   "execution_count": 23,
   "metadata": {},
   "outputs": [],
   "source": [
    "# reparameterization trick\n",
    "# instead of sampling from Q(z|X), sample epsilon = N(0,I)\n",
    "# z = z_mean + sqrt(var) * epsilon\n",
    "def sampling(args):\n",
    "    \"\"\"Reparameterization trick by sampling from an isotropic unit Gaussian.\n",
    "\n",
    "    # Arguments\n",
    "        args (tensor): mean and log of variance of Q(z|X)\n",
    "\n",
    "    # Returns\n",
    "        z (tensor): sampled latent vector\n",
    "    \"\"\"\n",
    "    #print(args)\n",
    "    z_mean, z_log_var = args\n",
    "    batch = K.shape(z_mean)[0]\n",
    "    dim = K.int_shape(z_mean)[1]\n",
    "    # by default, random_normal has mean = 0 and std = 1.0\n",
    "    epsilon = K.random_normal(shape=(batch, dim))\n",
    "    return z_mean + K.exp(0.5 * z_log_var) * epsilon\n"
   ]
  },
  {
   "cell_type": "markdown",
   "metadata": {},
   "source": [
    "n = number of units "
   ]
  },
  {
   "cell_type": "code",
   "execution_count": 24,
   "metadata": {},
   "outputs": [],
   "source": [
    "n = len(X_train.columns)"
   ]
  },
  {
   "cell_type": "code",
   "execution_count": 25,
   "metadata": {},
   "outputs": [
    {
     "data": {
      "text/plain": [
       "3571"
      ]
     },
     "execution_count": 25,
     "metadata": {},
     "output_type": "execute_result"
    }
   ],
   "source": [
    "n"
   ]
  },
  {
   "cell_type": "code",
   "execution_count": 26,
   "metadata": {},
   "outputs": [
    {
     "name": "stdout",
     "output_type": "stream",
     "text": [
      "Model: \"encoder\"\n",
      "__________________________________________________________________________________________________\n",
      "Layer (type)                    Output Shape         Param #     Connected to                     \n",
      "==================================================================================================\n",
      "encoder_input (InputLayer)      [(None, 3571)]       0                                            \n",
      "__________________________________________________________________________________________________\n",
      "dense (Dense)                   (None, 1785)         6376020     encoder_input[0][0]              \n",
      "__________________________________________________________________________________________________\n",
      "batch_normalization (BatchNorma (None, 1785)         7140        dense[0][0]                      \n",
      "__________________________________________________________________________________________________\n",
      "dense_1 (Dense)                 (None, 892)          1593112     batch_normalization[0][0]        \n",
      "__________________________________________________________________________________________________\n",
      "batch_normalization_1 (BatchNor (None, 892)          3568        dense_1[0][0]                    \n",
      "__________________________________________________________________________________________________\n",
      "z_mean (Dense)                  (None, 2)            1786        batch_normalization_1[0][0]      \n",
      "__________________________________________________________________________________________________\n",
      "z_log_var_1 (Dense)             (None, 2)            1786        batch_normalization_1[0][0]      \n",
      "__________________________________________________________________________________________________\n",
      "z (Lambda)                      (None, 2)            0           z_mean[0][0]                     \n",
      "                                                                 z_log_var_1[0][0]                \n",
      "==================================================================================================\n",
      "Total params: 7,983,412\n",
      "Trainable params: 7,978,058\n",
      "Non-trainable params: 5,354\n",
      "__________________________________________________________________________________________________\n",
      "Model: \"decoder\"\n",
      "_________________________________________________________________\n",
      "Layer (type)                 Output Shape              Param #   \n",
      "=================================================================\n",
      "z_sampling (InputLayer)      [(None, 2)]               0         \n",
      "_________________________________________________________________\n",
      "dense_2 (Dense)              (None, 892)               2676      \n",
      "_________________________________________________________________\n",
      "batch_normalization_2 (Batch (None, 892)               3568      \n",
      "_________________________________________________________________\n",
      "dense_3 (Dense)              (None, 1785)              1594005   \n",
      "_________________________________________________________________\n",
      "dense_4 (Dense)              (None, 3571)              6377806   \n",
      "=================================================================\n",
      "Total params: 7,978,055\n",
      "Trainable params: 7,976,271\n",
      "Non-trainable params: 1,784\n",
      "_________________________________________________________________\n"
     ]
    }
   ],
   "source": [
    "inputs = Input(shape=(n,), name = 'encoder_input')\n",
    "x = Dense(n//2, activation = 'tanh', bias_regularizer=l2(0.01)) (inputs)\n",
    "x = BatchNormalization()(x)\n",
    "x = Dense(n//4, activation = 'tanh', bias_regularizer=l2(0.01)) (x)\n",
    "x = BatchNormalization() (x)\n",
    "z_mean = Dense(2, activation = 'tanh', name = 'z_mean') (x)\n",
    "z_log_var = Dense(2, activation = 'tanh', name ='z_log_var_1' )(x)\n",
    "\n",
    "z = Lambda(sampling, output_shape = (2,), name = 'z')([z_mean, z_log_var])\n",
    "encoder = Model(inputs, [z_mean, z_log_var, z], name = 'encoder')\n",
    "encoder.summary() \n",
    "\n",
    "latent_inputs = Input(shape = (2,), name ='z_sampling')\n",
    "x = Dense(n//4, activation ='tanh', bias_regularizer=l2(0.01))(latent_inputs)\n",
    "x = BatchNormalization()(x)\n",
    "x = Dense(n//2, activation = 'tanh', bias_regularizer=l2(0.01)) (x)\n",
    "X = BatchNormalization()(x)\n",
    "outputs = Dense(n ,activation = 'tanh') (x)\n",
    "decoder = Model(latent_inputs, outputs, name = 'decoder')\n",
    "decoder.summary()\n",
    "\n",
    "outputs = decoder(encoder(inputs)[2]) # second layer of the encoder becomes the input of the encoder\n",
    "vae = Model(inputs, outputs, name = 'variational_Autoencoder')\n"
   ]
  },
  {
   "cell_type": "code",
   "execution_count": 27,
   "metadata": {},
   "outputs": [],
   "source": [
    "vae.compile(loss = 'mse', optimizer='adam')"
   ]
  },
  {
   "cell_type": "code",
   "execution_count": 28,
   "metadata": {},
   "outputs": [],
   "source": [
    "tensorboard_callback = TensorBoard(log_dir=\"./logs\")"
   ]
  },
  {
   "cell_type": "code",
   "execution_count": 29,
   "metadata": {},
   "outputs": [
    {
     "data": {
      "text/plain": [
       "<tensorflow.python.keras.callbacks.History at 0x13da9a310>"
      ]
     },
     "execution_count": 29,
     "metadata": {},
     "output_type": "execute_result"
    }
   ],
   "source": [
    "vae.fit(np.array(X_train), np.array(X_train), \n",
    "                epochs=200,\n",
    "                validation_data=(np.array(X_test), np.array(X_test)), verbose = 0, \n",
    "       callbacks = [tensorboard_callback])"
   ]
  },
  {
   "cell_type": "code",
   "execution_count": 30,
   "metadata": {},
   "outputs": [
    {
     "name": "stdout",
     "output_type": "stream",
     "text": [
      "W0120 09:24:05.626245 123145382625280 plugin_event_accumulator.py:294] Found more than one graph event per run, or there was a metagraph containing a graph_def, as well as one or more graph events.  Overwriting the graph with the newest event.\n",
      "Serving TensorBoard on localhost; to expose to the network, use a proxy or pass --bind_all\n",
      "TensorBoard 2.0.2 at http://localhost:6006/ (Press CTRL+C to quit)\n",
      "^C\n"
     ]
    }
   ],
   "source": [
    "!tensorboard --logdir=./logs"
   ]
  },
  {
   "cell_type": "code",
   "execution_count": 31,
   "metadata": {},
   "outputs": [],
   "source": [
    "z_mean, zlog, z = encoder.predict(np.array(X_test),\n",
    "                                   batch_size=10)"
   ]
  },
  {
   "cell_type": "code",
   "execution_count": 32,
   "metadata": {},
   "outputs": [
    {
     "data": {
      "text/plain": [
       "<matplotlib.collections.PathCollection at 0x131abbe50>"
      ]
     },
     "execution_count": 32,
     "metadata": {},
     "output_type": "execute_result"
    },
    {
     "data": {
      "image/png": "[encoded data removed]",
      "text/plain": [
       "<Figure size 432x288 with 1 Axes>"
      ]
     },
     "metadata": {
      "needs_background": "light"
     },
     "output_type": "display_data"
    }
   ],
   "source": [
    "color_dict = {1: 'red', 0:'blue'}\n",
    "colors = np.vectorize(color_dict.get)(y_test)\n",
    "plt.scatter([x[0] for x in z], [x[1] for x in z], c =colors)"
   ]
  },
  {
   "cell_type": "code",
   "execution_count": 33,
   "metadata": {},
   "outputs": [],
   "source": [
    "X_test_pred = vae.predict(np.array(X_test))"
   ]
  },
  {
   "cell_type": "code",
   "execution_count": 34,
   "metadata": {},
   "outputs": [
    {
     "name": "stdout",
     "output_type": "stream",
     "text": [
      "\r",
      "36/1 [========================================================================================================================================================================================================================================================================================================================================================================================================================================================================================================================================================================================================================================================================================================================================================================================================================================================================================================================================================================================================================================================================================================================] - 0s 12ms/sample - loss: 0.0557\n"
     ]
    }
   ],
   "source": [
    "results = vae.evaluate( X_test_pred,np.array(X_test) )"
   ]
  },
  {
   "cell_type": "code",
   "execution_count": 36,
   "metadata": {},
   "outputs": [
    {
     "name": "stdout",
     "output_type": "stream",
     "text": [
      "14.281316580587267\n"
     ]
    }
   ],
   "source": [
    "#MSE\n",
    "s = 0 \n",
    "for i in range(len(X_test)): \n",
    "    s+= sum((np.array(X_test)[i] - X_test_pred[i])**2)**0.5 \n",
    "print (s/len(X_test))\n"
   ]
  },
  {
   "cell_type": "markdown",
   "metadata": {},
   "source": [
    "<img src = 'modelinfo.png'> "
   ]
  },
  {
   "cell_type": "code",
   "execution_count": null,
   "metadata": {},
   "outputs": [],
   "source": []
  }
 ],
 "metadata": {
  "kernelspec": {
   "display_name": "Python 3",
   "language": "python",
   "name": "python3"
  },
  "language_info": {
   "codemirror_mode": {
    "name": "ipython",
    "version": 3
   },
   "file_extension": ".py",
   "mimetype": "text/x-python",
   "name": "python",
   "nbconvert_exporter": "python",
   "pygments_lexer": "ipython3",
   "version": "3.7.5"
  }
 },
 "nbformat": 4,
 "nbformat_minor": 2
}
